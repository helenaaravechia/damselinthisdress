{
 "cells": [
  {
   "cell_type": "markdown",
   "metadata": {},
   "source": [
    "# Trabalho de PDI"
   ]
  },
  {
   "cell_type": "markdown",
   "metadata": {},
   "source": [
    "Importando bibliotecas"
   ]
  },
  {
   "cell_type": "code",
   "execution_count": 1,
   "metadata": {},
   "outputs": [],
   "source": [
    "from PIL import Image\n",
    "from PIL import ImageFilter\n",
    "import imageio as im\n",
    "import numpy as np\n",
    "import os\n",
    "import matplotlib.pyplot as plt\n",
    "import matplotlib.image as mpimg\n",
    "from skimage import data\n",
    "from skimage import filters\n",
    "from skimage import exposure\n",
    "from skimage.feature import hog\n",
    "from fastdtw import fastdtw\n",
    "from scipy.spatial.distance import euclidean"
   ]
  },
  {
   "cell_type": "markdown",
   "metadata": {},
   "source": [
    "Carregando imagens do computador"
   ]
  },
  {
   "cell_type": "code",
   "execution_count": 2,
   "metadata": {},
   "outputs": [],
   "source": [
    "def loadImages(path):\n",
    "    # return array of images\n",
    "    path = os.getcwd() + '/' + path\n",
    "    imagesList = os.listdir(path)\n",
    "    loadedImages = []\n",
    "    for image in imagesList:\n",
    "        #img = im.imread(os.path.join(path, image))\n",
    "        img = Image.open(os.path.join(path, image)).convert('L')\n",
    "        loadedImages.append(img)\n",
    "\n",
    "    return loadedImages\n",
    "\n",
    "correctExamples = loadImages(\"/images/correctexamples/\")\n",
    "incorrectExamples = loadImages(\"/images/incorrectexamples/\")\n",
    "originalExamples = loadImages(\"/images/originals/\")\n"
   ]
  },
  {
   "cell_type": "code",
   "execution_count": 3,
   "metadata": {},
   "outputs": [],
   "source": [
    "def plot(img):\n",
    "    plt.figure(figsize=(20,10))\n",
    "    imgplot = plt.imshow(img)\n",
    "\n",
    "    plt.show()"
   ]
  },
  {
   "cell_type": "code",
   "execution_count": 4,
   "metadata": {},
   "outputs": [],
   "source": [
    "def preprocess(imgs):\n",
    "    imgs = [img.filter(ImageFilter.MedianFilter()) for img in imgs]\n",
    "    return imgs\n",
    "corrects = preprocess(correctExamples)\n",
    "incorrects = preprocess(incorrectExamples)\n",
    "originals = preprocess(originalExamples)\n"
   ]
  },
  {
   "cell_type": "code",
   "execution_count": 5,
   "metadata": {},
   "outputs": [],
   "source": [
    "def toNP(img):\n",
    "    return np.asarray(img, dtype=np.uint8)"
   ]
  },
  {
   "cell_type": "markdown",
   "metadata": {},
   "source": [
    "Gerando histograma de gradiente para todas as imagens"
   ]
  },
  {
   "cell_type": "code",
   "execution_count": 6,
   "metadata": {},
   "outputs": [],
   "source": [
    "def getBins(fd, num_bins = 20, max_val = 1, min_val = 0):\n",
    "    total = max_val - min_val\n",
    "    return [min_val + i*total/num_bins for i in range(num_bins + 1)]\n",
    "def getHistogram(arr):\n",
    "    hist, _ = np.histogram(arr , bins = getBins(arr))\n",
    "    hist = hist / hist.max()\n",
    "    return hist\n",
    "def extractHistogram(img):\n",
    "    fd, _ = hog(img, orientations=8, pixels_per_cell=(8, 8),\n",
    "                        cells_per_block=(1, 1), visualize=True, block_norm='L2-Hys')\n",
    "    return getHistogram(fd)\n",
    "correctsHistogram = [extractHistogram(img) for img in corrects]\n",
    "incorrectsHistogram = [extractHistogram(img) for img in incorrects]\n",
    "originalsHistogram = [extractHistogram(img) for img in originals]"
   ]
  },
  {
   "cell_type": "code",
   "execution_count": 7,
   "metadata": {},
   "outputs": [
    {
     "name": "stdout",
     "output_type": "stream",
     "text": [
      "Verdadeiros Positivos: 0.6923076923076923\n",
      "Verdadeiros Negativos: 0.6\n"
     ]
    }
   ],
   "source": [
    "def plotHistogram(hist):\n",
    "    plt.plot(hist)\n",
    "    plt.show()\n",
    "def compareHistograms(h1, h2):\n",
    "    x = [[i, h1[i]]for i in range(len(h1))]\n",
    "    y = [[i, h2[i]]for i in range(len(h2))]\n",
    "    dist, _ = fastdtw(x, y, dist=euclidean)\n",
    "    return dist\n",
    "def compareAllBase(h1, base):\n",
    "    dist = 1000\n",
    "    for h2 in base:\n",
    "        dist = min(dist, compareHistograms(h1, h2))\n",
    "    return dist\n",
    "\n",
    "shouldBeCorrect = [compareAllBase(hist, originalsHistogram) for hist in correctsHistogram]\n",
    "shouldBeIncorrect = [compareAllBase(hist, originalsHistogram) for hist in incorrectsHistogram]\n",
    "\n",
    "threshold = 1.1\n",
    "n_correct_positive = len([x for x in shouldBeCorrect if x < threshold])\n",
    "true_positive = n_correct_positive/len(corrects)\n",
    "n_incorrect_positive = len([x for x in shouldBeIncorrect if x > threshold])\n",
    "true_negative = n_incorrect_positive/len(incorrects)\n",
    "\n",
    "print(\"Verdadeiros Positivos: {}\".format(true_positive))\n",
    "print(\"Verdadeiros Negativos: {}\".format(true_negative))\n"
   ]
  },
  {
   "cell_type": "markdown",
   "metadata": {},
   "source": [
    "O algoritmo classificou corretamente 69% das imagens com correspondência, e 60% das imagens sem correspondência"
   ]
  }
 ],
 "metadata": {
  "kernelspec": {
   "display_name": "Python 3",
   "language": "python",
   "name": "python3"
  },
  "language_info": {
   "codemirror_mode": {
    "name": "ipython",
    "version": 3
   },
   "file_extension": ".py",
   "mimetype": "text/x-python",
   "name": "python",
   "nbconvert_exporter": "python",
   "pygments_lexer": "ipython3",
   "version": "3.6.5"
  }
 },
 "nbformat": 4,
 "nbformat_minor": 2
}
